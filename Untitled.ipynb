{
 "cells": [
  {
   "cell_type": "code",
   "execution_count": 1,
   "id": "8c2b8714-1f26-4b17-b292-2c61df316407",
   "metadata": {},
   "outputs": [],
   "source": [
    "import pandas as pd"
   ]
  },
  {
   "cell_type": "code",
   "execution_count": 47,
   "id": "15f8e0cf-18c5-46ad-9e64-b8f35205da5e",
   "metadata": {},
   "outputs": [],
   "source": [
    "file = r'C:\\Users\\imkor\\Documents\\카카오톡 받은 파일\\2306_2309_가계약_간편_GA2_230908.xlsx'\n",
    "\n",
    "df = pd.read_excel(file)"
   ]
  },
  {
   "cell_type": "code",
   "execution_count": 49,
   "id": "74e5351b-285b-46b7-8357-45626dda7d9a",
   "metadata": {},
   "outputs": [],
   "source": [
    "df.to_pickle('temp.pkl')"
   ]
  },
  {
   "cell_type": "code",
   "execution_count": 68,
   "id": "e578629c-964f-4c0d-b8cc-c2f874de21a1",
   "metadata": {},
   "outputs": [],
   "source": [
    "df = pd.read_pickle('temp.pkl')"
   ]
  },
  {
   "cell_type": "code",
   "execution_count": 69,
   "id": "38c87683-9897-4c2c-95e2-e1bc1db4eab4",
   "metadata": {},
   "outputs": [],
   "source": [
    "df = df[['기준일자','가계약번호',\n",
    "'가계약상태상세코드명',\n",
    "'증권번호',\n",
    "'입력자지점조직명',\n",
    "'조직코드',\n",
    "'조직명',\n",
    "'대리점지사조직코드',\n",
    "'대리점지사명',\n",
    "'상품명',\n",
    "'피보험자명',\n",
    "'피보험자보험연령',\n",
    "'피보험자성별코드',\n",
    "'매니저코드',\n",
    "'매니저명']].copy()"
   ]
  },
  {
   "cell_type": "code",
   "execution_count": 70,
   "id": "1ecc49f1-df12-4726-a44a-644ab182677d",
   "metadata": {},
   "outputs": [
    {
     "data": {
      "text/html": [
       "<div>\n",
       "<style scoped>\n",
       "    .dataframe tbody tr th:only-of-type {\n",
       "        vertical-align: middle;\n",
       "    }\n",
       "\n",
       "    .dataframe tbody tr th {\n",
       "        vertical-align: top;\n",
       "    }\n",
       "\n",
       "    .dataframe thead th {\n",
       "        text-align: right;\n",
       "    }\n",
       "</style>\n",
       "<table border=\"1\" class=\"dataframe\">\n",
       "  <thead>\n",
       "    <tr style=\"text-align: right;\">\n",
       "      <th></th>\n",
       "      <th>기준일자</th>\n",
       "      <th>가계약번호</th>\n",
       "      <th>가계약상태상세코드명</th>\n",
       "      <th>증권번호</th>\n",
       "      <th>입력자지점조직명</th>\n",
       "      <th>조직코드</th>\n",
       "      <th>조직명</th>\n",
       "      <th>대리점지사조직코드</th>\n",
       "      <th>대리점지사명</th>\n",
       "      <th>상품명</th>\n",
       "      <th>피보험자명</th>\n",
       "      <th>피보험자보험연령</th>\n",
       "      <th>피보험자성별코드</th>\n",
       "      <th>매니저코드</th>\n",
       "      <th>매니저명</th>\n",
       "    </tr>\n",
       "  </thead>\n",
       "  <tbody>\n",
       "    <tr>\n",
       "      <th>0</th>\n",
       "      <td>2023-06-29</td>\n",
       "      <td>318001546202306293</td>\n",
       "      <td>승인</td>\n",
       "      <td>NaN</td>\n",
       "      <td>GA2-4지점</td>\n",
       "      <td>723021015</td>\n",
       "      <td>우정훈</td>\n",
       "      <td>422000755.0</td>\n",
       "      <td>(주)영진에셋(여의도)</td>\n",
       "      <td>(무) 메리츠 간편한355건강보험2302</td>\n",
       "      <td>신길녀</td>\n",
       "      <td>75.0</td>\n",
       "      <td>2.0</td>\n",
       "      <td>318001546</td>\n",
       "      <td>김영선</td>\n",
       "    </tr>\n",
       "    <tr>\n",
       "      <th>1</th>\n",
       "      <td>2023-06-30</td>\n",
       "      <td>723014915202306307</td>\n",
       "      <td>자동승인</td>\n",
       "      <td>NaN</td>\n",
       "      <td>GA2-1지점</td>\n",
       "      <td>723014915</td>\n",
       "      <td>유수경</td>\n",
       "      <td>421007817.0</td>\n",
       "      <td>(주)라이프앤리치 본사</td>\n",
       "      <td>(무) 메리츠 The간편한건강보험(Ⅰ)2301(간편심사형)</td>\n",
       "      <td>NaN</td>\n",
       "      <td>70.0</td>\n",
       "      <td>2.0</td>\n",
       "      <td>322002557</td>\n",
       "      <td>감은진</td>\n",
       "    </tr>\n",
       "    <tr>\n",
       "      <th>2</th>\n",
       "      <td>2023-06-26</td>\n",
       "      <td>5210009772023062673</td>\n",
       "      <td>승인</td>\n",
       "      <td>NaN</td>\n",
       "      <td>GA2-8지점</td>\n",
       "      <td>723025643</td>\n",
       "      <td>주은주</td>\n",
       "      <td>421002512.0</td>\n",
       "      <td>(주)엠금융서비스(나우비전)</td>\n",
       "      <td>(무) 335오!간편건강보험2301</td>\n",
       "      <td>김명수</td>\n",
       "      <td>75.0</td>\n",
       "      <td>1.0</td>\n",
       "      <td>521000977</td>\n",
       "      <td>박찬미</td>\n",
       "    </tr>\n",
       "    <tr>\n",
       "      <th>3</th>\n",
       "      <td>2023-06-26</td>\n",
       "      <td>722021852202306262</td>\n",
       "      <td>보완요청</td>\n",
       "      <td>NaN</td>\n",
       "      <td>GA2-1지점</td>\n",
       "      <td>722021852</td>\n",
       "      <td>유진숙</td>\n",
       "      <td>422000330.0</td>\n",
       "      <td>(주)현대홈쇼핑(브이아이피)</td>\n",
       "      <td>(무) 메리츠 간편한315건강보험2301</td>\n",
       "      <td>박경옥</td>\n",
       "      <td>70.0</td>\n",
       "      <td>2.0</td>\n",
       "      <td>319008962</td>\n",
       "      <td>박준희</td>\n",
       "    </tr>\n",
       "    <tr>\n",
       "      <th>4</th>\n",
       "      <td>2023-06-26</td>\n",
       "      <td>3140000032023062635</td>\n",
       "      <td>자동승인</td>\n",
       "      <td>NaN</td>\n",
       "      <td>GA2-1지점</td>\n",
       "      <td>721064652</td>\n",
       "      <td>허경수</td>\n",
       "      <td>421000226.0</td>\n",
       "      <td>(주)리치앤코(Rich&amp;Co.)(서울1본부)</td>\n",
       "      <td>(무) 메리츠 간편한355건강보험2302</td>\n",
       "      <td>NaN</td>\n",
       "      <td>72.0</td>\n",
       "      <td>2.0</td>\n",
       "      <td>314000003</td>\n",
       "      <td>윤지효</td>\n",
       "    </tr>\n",
       "  </tbody>\n",
       "</table>\n",
       "</div>"
      ],
      "text/plain": [
       "        기준일자                가계약번호 가계약상태상세코드명 증권번호 입력자지점조직명       조직코드  조직명  \\\n",
       "0 2023-06-29   318001546202306293         승인  NaN  GA2-4지점  723021015  우정훈   \n",
       "1 2023-06-30   723014915202306307       자동승인  NaN  GA2-1지점  723014915  유수경   \n",
       "2 2023-06-26  5210009772023062673         승인  NaN  GA2-8지점  723025643  주은주   \n",
       "3 2023-06-26   722021852202306262       보완요청  NaN  GA2-1지점  722021852  유진숙   \n",
       "4 2023-06-26  3140000032023062635       자동승인  NaN  GA2-1지점  721064652  허경수   \n",
       "\n",
       "     대리점지사조직코드                    대리점지사명                               상품명  \\\n",
       "0  422000755.0              (주)영진에셋(여의도)            (무) 메리츠 간편한355건강보험2302   \n",
       "1  421007817.0              (주)라이프앤리치 본사  (무) 메리츠 The간편한건강보험(Ⅰ)2301(간편심사형)   \n",
       "2  421002512.0           (주)엠금융서비스(나우비전)               (무) 335오!간편건강보험2301   \n",
       "3  422000330.0           (주)현대홈쇼핑(브이아이피)            (무) 메리츠 간편한315건강보험2301   \n",
       "4  421000226.0  (주)리치앤코(Rich&Co.)(서울1본부)            (무) 메리츠 간편한355건강보험2302   \n",
       "\n",
       "  피보험자명  피보험자보험연령  피보험자성별코드      매니저코드 매니저명  \n",
       "0   신길녀      75.0       2.0  318001546  김영선  \n",
       "1   NaN      70.0       2.0  322002557  감은진  \n",
       "2   김명수      75.0       1.0  521000977  박찬미  \n",
       "3   박경옥      70.0       2.0  319008962  박준희  \n",
       "4   NaN      72.0       2.0  314000003  윤지효  "
      ]
     },
     "execution_count": 70,
     "metadata": {},
     "output_type": "execute_result"
    }
   ],
   "source": [
    "df.head()"
   ]
  },
  {
   "cell_type": "code",
   "execution_count": 71,
   "id": "af51d8d6-c79c-4cf9-a9bc-281254c8d7eb",
   "metadata": {},
   "outputs": [],
   "source": [
    "df['기준일자'] = pd.to_datetime(df['기준일자'],  errors='coerce')"
   ]
  },
  {
   "cell_type": "code",
   "execution_count": 72,
   "id": "fdb3d7f3-77ba-4b7d-a50d-6ccb82608ad2",
   "metadata": {},
   "outputs": [],
   "source": [
    "df['대리점지사조직코드']=df['대리점지사조직코드'].fillna(0).astype(int).astype(str)"
   ]
  },
  {
   "cell_type": "code",
   "execution_count": 73,
   "id": "fff53138-46dd-4158-96f9-dc1cf594dae8",
   "metadata": {},
   "outputs": [],
   "source": [
    "df['피보험자보험연령']=df['피보험자보험연령'].fillna(0).astype(int).astype(str)"
   ]
  },
  {
   "cell_type": "code",
   "execution_count": 74,
   "id": "b664e7d8-b7d4-40f1-9024-34d8568cada5",
   "metadata": {},
   "outputs": [],
   "source": [
    "df['피보험자성별코드']=df['피보험자성별코드'].fillna(0).astype(int).astype(str)"
   ]
  },
  {
   "cell_type": "code",
   "execution_count": 75,
   "id": "1c5ad29e-8d67-420f-a60d-de1e553bfeda",
   "metadata": {},
   "outputs": [],
   "source": [
    "df['기준일자'] = df['기준일자'].astype(str)"
   ]
  },
  {
   "cell_type": "code",
   "execution_count": 76,
   "id": "0276ddda-e41c-46f5-ae2f-ee6af075b91d",
   "metadata": {
    "tags": []
   },
   "outputs": [],
   "source": [
    "df['증권번호'] = df['증권번호'].fillna(0)"
   ]
  },
  {
   "cell_type": "code",
   "execution_count": 77,
   "id": "556b3d90-cd62-4e8b-aed6-c25a578d4748",
   "metadata": {},
   "outputs": [],
   "source": [
    "df['체결여부'] = df['증권번호'].apply(lambda x : \"체결\" if x != 0 else \"미체결\")"
   ]
  },
  {
   "cell_type": "code",
   "execution_count": 78,
   "id": "b868bdff-ab91-4499-be7b-fbc720b8c885",
   "metadata": {},
   "outputs": [
    {
     "data": {
      "text/plain": [
       "Index(['기준일자', '가계약번호', '가계약상태상세코드명', '증권번호', '입력자지점조직명', '조직코드', '조직명',\n",
       "       '대리점지사조직코드', '대리점지사명', '상품명', '피보험자명', '피보험자보험연령', '피보험자성별코드', '매니저코드',\n",
       "       '매니저명', '체결여부'],\n",
       "      dtype='object')"
      ]
     },
     "execution_count": 78,
     "metadata": {},
     "output_type": "execute_result"
    }
   ],
   "source": [
    "df.columns"
   ]
  },
  {
   "cell_type": "code",
   "execution_count": 79,
   "id": "dbcf837a-fd6a-495b-a608-3e7491a93f43",
   "metadata": {},
   "outputs": [],
   "source": [
    "df.rename(columns={\"가계약상태상세코드명\":'계약상태', '입력자지점조직명':'지점', '대리점지사조직코드':'지사코드',\"대리점지사명\":'지사명','피보험자보험연령':'보험연령','피보험자성별코드':'성별코드'},inplace=True)"
   ]
  },
  {
   "cell_type": "code",
   "execution_count": 80,
   "id": "869d2be2-8090-4b6a-879e-42e9cdc5fd74",
   "metadata": {},
   "outputs": [],
   "source": [
    "df.to_pickle('rawdata.pkl')"
   ]
  },
  {
   "cell_type": "code",
   "execution_count": 81,
   "id": "7050e814-672b-422f-91e6-04d749135f61",
   "metadata": {},
   "outputs": [
    {
     "data": {
      "text/plain": [
       "1"
      ]
     },
     "execution_count": 81,
     "metadata": {},
     "output_type": "execute_result"
    }
   ],
   "source": [
    "min(1, len(df))"
   ]
  },
  {
   "cell_type": "code",
   "execution_count": null,
   "id": "2063ef66-70f6-4b59-97a4-2b9a65a9b5e6",
   "metadata": {},
   "outputs": [],
   "source": [
    "df.sort_values('dd',)"
   ]
  },
  {
   "cell_type": "code",
   "execution_count": 82,
   "id": "25b5a8f8-9563-454c-a75a-af14e2baa20f",
   "metadata": {},
   "outputs": [],
   "source": [
    "a = [1,2,3,4]"
   ]
  },
  {
   "cell_type": "code",
   "execution_count": 83,
   "id": "b2bfd126-c7bb-4481-9244-8bb116a9cee8",
   "metadata": {},
   "outputs": [
    {
     "data": {
      "text/plain": [
       "['전체', 1, 2, 3, 4]"
      ]
     },
     "execution_count": 83,
     "metadata": {},
     "output_type": "execute_result"
    }
   ],
   "source": [
    "['전체'] + a"
   ]
  },
  {
   "cell_type": "code",
   "execution_count": 84,
   "id": "191cd546-632d-4913-99c2-8c5df6e26790",
   "metadata": {},
   "outputs": [],
   "source": [
    "b = '지사'"
   ]
  },
  {
   "cell_type": "code",
   "execution_count": 86,
   "id": "c8b399da-1cf4-47e4-88c3-aa491c7cdaf5",
   "metadata": {},
   "outputs": [
    {
     "name": "stdout",
     "output_type": "stream",
     "text": [
      "<class 'str'>\n"
     ]
    }
   ],
   "source": [
    "print(type(b))"
   ]
  },
  {
   "cell_type": "code",
   "execution_count": 89,
   "id": "46f0a86f-b531-4961-9cda-e2a9531fe68c",
   "metadata": {},
   "outputs": [
    {
     "data": {
      "text/plain": [
       "True"
      ]
     },
     "execution_count": 89,
     "metadata": {},
     "output_type": "execute_result"
    }
   ],
   "source": [
    "type(b) is str"
   ]
  }
 ],
 "metadata": {
  "kernelspec": {
   "display_name": "Python 3 (ipykernel)",
   "language": "python",
   "name": "python3"
  },
  "language_info": {
   "codemirror_mode": {
    "name": "ipython",
    "version": 3
   },
   "file_extension": ".py",
   "mimetype": "text/x-python",
   "name": "python",
   "nbconvert_exporter": "python",
   "pygments_lexer": "ipython3",
   "version": "3.9.15"
  }
 },
 "nbformat": 4,
 "nbformat_minor": 5
}
